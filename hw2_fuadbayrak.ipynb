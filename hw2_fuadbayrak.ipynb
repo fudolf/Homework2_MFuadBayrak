{
 "cells": [
  {
   "cell_type": "code",
   "execution_count": 44,
   "metadata": {},
   "outputs": [],
   "source": [
    "import numpy as np\n",
    "import pandas as pd\n",
    "import nsfg\n",
    "import thinkstats2\n",
    "import thinkplot"
   ]
  },
  {
   "cell_type": "code",
   "execution_count": 5,
   "metadata": {
    "collapsed": true
   },
   "outputs": [],
   "source": [
    "data=nsfg.ReadFemResp()\n",
    "resp=pd.DataFrame(data)"
   ]
  },
  {
   "cell_type": "code",
   "execution_count": 13,
   "metadata": {
    "collapsed": true
   },
   "outputs": [],
   "source": [
    "school=resp[resp[\"hieduc\"]<=10]\n",
    "university=resp[resp[\"hieduc\"]>10]"
   ]
  },
  {
   "cell_type": "code",
   "execution_count": 29,
   "metadata": {},
   "outputs": [
    {
     "name": "stdout",
     "output_type": "stream",
     "text": [
      "-University Descriptive Statistics-\n",
      "Mean is: 4.37902097902\n",
      "Median is: 3.0\n",
      "Mode is: 3\n",
      "Std is: 11.1402764933\n",
      "Variance is: 124.105760347\n"
     ]
    }
   ],
   "source": [
    "print \"-University Descriptive Statistics-\"\n",
    "print \"Mean is:\",university[\"agemomb1\"].mean()\n",
    "print \"Median is:\",university[\"agemomb1\"].median()\n",
    "print \"Mode is:\",university[\"agemomb1\"].mode()[0]\n",
    "print \"Std is:\",np.std(university[\"agemomb1\"], axis=0)\n",
    "print \"Variance is:\",np.std(university[\"agemomb1\"], axis=0)**2"
   ]
  },
  {
   "cell_type": "code",
   "execution_count": 30,
   "metadata": {},
   "outputs": [
    {
     "name": "stdout",
     "output_type": "stream",
     "text": [
      "-School Descriptive Statistics-\n",
      "Mean is: 3.82720989451\n",
      "Median is: 3.0\n",
      "Mode is: 3\n",
      "Std is: 10.6765999778\n",
      "Variance is: 113.989787086\n"
     ]
    }
   ],
   "source": [
    "print \"-School Descriptive Statistics-\"\n",
    "print \"Mean is:\",school[\"agemomb1\"].mean()\n",
    "print \"Median is:\",school[\"agemomb1\"].median()\n",
    "print \"Mode is:\",school[\"agemomb1\"].mode()[0]\n",
    "print \"Std is:\",np.std(school[\"agemomb1\"], axis=0)\n",
    "print \"Variance is:\",np.std(school[\"agemomb1\"], axis=0)**2"
   ]
  },
  {
   "cell_type": "code",
   "execution_count": 31,
   "metadata": {
    "collapsed": true
   },
   "outputs": [],
   "source": [
    "#Here we can say that mean of age of moms of universities are greater.\n",
    "#std values are similar so we can say that both values have the similar distances from the mean"
   ]
  },
  {
   "cell_type": "code",
   "execution_count": 47,
   "metadata": {},
   "outputs": [],
   "source": [
    "uni_pmf=thinkstats2.Hist(university[\"agemomb1\"])\n",
    "thinkplot.Pmf(uni_pmf)\n",
    "thinkplot.Config(title='PMF', xlabel='Degree/Graduate', ylabel='PMF')\n",
    "\n",
    "school_pmf=thinkstats2.Hist(school[\"agemomb1\"])\n",
    "thinkplot.Pmf(school_pmf)\n",
    "thinkplot.Config(title='PMF', xlabel='Degree/Graduate', ylabel='PMF')"
   ]
  },
  {
   "cell_type": "code",
   "execution_count": null,
   "metadata": {
    "collapsed": true
   },
   "outputs": [],
   "source": []
  }
 ],
 "metadata": {
  "kernelspec": {
   "display_name": "Python 2",
   "language": "python",
   "name": "python2"
  },
  "language_info": {
   "codemirror_mode": {
    "name": "ipython",
    "version": 2
   },
   "file_extension": ".py",
   "mimetype": "text/x-python",
   "name": "python",
   "nbconvert_exporter": "python",
   "pygments_lexer": "ipython2",
   "version": "2.7.13"
  }
 },
 "nbformat": 4,
 "nbformat_minor": 2
}
